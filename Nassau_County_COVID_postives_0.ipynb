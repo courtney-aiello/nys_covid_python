{
 "cells": [
  {
   "cell_type": "code",
   "execution_count": 5,
   "metadata": {},
   "outputs": [],
   "source": [
    "import pandas as pd"
   ]
  },
  {
   "cell_type": "code",
   "execution_count": 6,
   "metadata": {},
   "outputs": [],
   "source": [
    "from sodapy import Socrata"
   ]
  },
  {
   "cell_type": "code",
   "execution_count": 7,
   "metadata": {},
   "outputs": [
    {
     "name": "stderr",
     "output_type": "stream",
     "text": [
      "WARNING:root:Requests made without an app_token will be subject to strict throttling limits.\n"
     ]
    }
   ],
   "source": [
    "client = Socrata(\"health.data.ny.gov\", None)"
   ]
  },
  {
   "cell_type": "code",
   "execution_count": 26,
   "metadata": {},
   "outputs": [],
   "source": [
    "results = client.get(\"xdss-u53e\", county='Nassau', limit=600)"
   ]
  },
  {
   "cell_type": "code",
   "execution_count": 9,
   "metadata": {},
   "outputs": [],
   "source": [
    "# Convert to pandas DataFrame"
   ]
  },
  {
   "cell_type": "code",
   "execution_count": 10,
   "metadata": {},
   "outputs": [],
   "source": [
    "results_df = pd.DataFrame.from_records(results)"
   ]
  },
  {
   "cell_type": "code",
   "execution_count": 11,
   "metadata": {
    "scrolled": true
   },
   "outputs": [
    {
     "data": {
      "text/html": [
       "<div>\n",
       "<style scoped>\n",
       "    .dataframe tbody tr th:only-of-type {\n",
       "        vertical-align: middle;\n",
       "    }\n",
       "\n",
       "    .dataframe tbody tr th {\n",
       "        vertical-align: top;\n",
       "    }\n",
       "\n",
       "    .dataframe thead th {\n",
       "        text-align: right;\n",
       "    }\n",
       "</style>\n",
       "<table border=\"1\" class=\"dataframe\">\n",
       "  <thead>\n",
       "    <tr style=\"text-align: right;\">\n",
       "      <th></th>\n",
       "      <th>test_date</th>\n",
       "      <th>county</th>\n",
       "      <th>new_positives</th>\n",
       "      <th>cumulative_number_of_positives</th>\n",
       "      <th>total_number_of_tests</th>\n",
       "      <th>cumulative_number_of_tests</th>\n",
       "    </tr>\n",
       "  </thead>\n",
       "  <tbody>\n",
       "    <tr>\n",
       "      <th>0</th>\n",
       "      <td>2020-03-01T00:00:00.000</td>\n",
       "      <td>Nassau</td>\n",
       "      <td>0</td>\n",
       "      <td>0</td>\n",
       "      <td>0</td>\n",
       "      <td>0</td>\n",
       "    </tr>\n",
       "    <tr>\n",
       "      <th>1</th>\n",
       "      <td>2020-03-02T00:00:00.000</td>\n",
       "      <td>Nassau</td>\n",
       "      <td>0</td>\n",
       "      <td>0</td>\n",
       "      <td>0</td>\n",
       "      <td>0</td>\n",
       "    </tr>\n",
       "    <tr>\n",
       "      <th>2</th>\n",
       "      <td>2020-03-03T00:00:00.000</td>\n",
       "      <td>Nassau</td>\n",
       "      <td>0</td>\n",
       "      <td>0</td>\n",
       "      <td>0</td>\n",
       "      <td>0</td>\n",
       "    </tr>\n",
       "    <tr>\n",
       "      <th>3</th>\n",
       "      <td>2020-03-04T00:00:00.000</td>\n",
       "      <td>Nassau</td>\n",
       "      <td>0</td>\n",
       "      <td>0</td>\n",
       "      <td>0</td>\n",
       "      <td>0</td>\n",
       "    </tr>\n",
       "    <tr>\n",
       "      <th>4</th>\n",
       "      <td>2020-03-05T00:00:00.000</td>\n",
       "      <td>Nassau</td>\n",
       "      <td>1</td>\n",
       "      <td>1</td>\n",
       "      <td>1</td>\n",
       "      <td>1</td>\n",
       "    </tr>\n",
       "    <tr>\n",
       "      <th>...</th>\n",
       "      <td>...</td>\n",
       "      <td>...</td>\n",
       "      <td>...</td>\n",
       "      <td>...</td>\n",
       "      <td>...</td>\n",
       "      <td>...</td>\n",
       "    </tr>\n",
       "    <tr>\n",
       "      <th>342</th>\n",
       "      <td>2021-02-06T00:00:00.000</td>\n",
       "      <td>Nassau</td>\n",
       "      <td>870</td>\n",
       "      <td>134227</td>\n",
       "      <td>17518</td>\n",
       "      <td>2579304</td>\n",
       "    </tr>\n",
       "    <tr>\n",
       "      <th>343</th>\n",
       "      <td>2021-02-07T00:00:00.000</td>\n",
       "      <td>Nassau</td>\n",
       "      <td>664</td>\n",
       "      <td>134891</td>\n",
       "      <td>12764</td>\n",
       "      <td>2592068</td>\n",
       "    </tr>\n",
       "    <tr>\n",
       "      <th>344</th>\n",
       "      <td>2021-02-08T00:00:00.000</td>\n",
       "      <td>Nassau</td>\n",
       "      <td>820</td>\n",
       "      <td>135711</td>\n",
       "      <td>14458</td>\n",
       "      <td>2606526</td>\n",
       "    </tr>\n",
       "    <tr>\n",
       "      <th>345</th>\n",
       "      <td>2021-02-09T00:00:00.000</td>\n",
       "      <td>Nassau</td>\n",
       "      <td>566</td>\n",
       "      <td>136277</td>\n",
       "      <td>10493</td>\n",
       "      <td>2617019</td>\n",
       "    </tr>\n",
       "    <tr>\n",
       "      <th>346</th>\n",
       "      <td>2021-02-10T00:00:00.000</td>\n",
       "      <td>Nassau</td>\n",
       "      <td>919</td>\n",
       "      <td>137196</td>\n",
       "      <td>19295</td>\n",
       "      <td>2636314</td>\n",
       "    </tr>\n",
       "  </tbody>\n",
       "</table>\n",
       "<p>347 rows × 6 columns</p>\n",
       "</div>"
      ],
      "text/plain": [
       "                   test_date  county new_positives  \\\n",
       "0    2020-03-01T00:00:00.000  Nassau             0   \n",
       "1    2020-03-02T00:00:00.000  Nassau             0   \n",
       "2    2020-03-03T00:00:00.000  Nassau             0   \n",
       "3    2020-03-04T00:00:00.000  Nassau             0   \n",
       "4    2020-03-05T00:00:00.000  Nassau             1   \n",
       "..                       ...     ...           ...   \n",
       "342  2021-02-06T00:00:00.000  Nassau           870   \n",
       "343  2021-02-07T00:00:00.000  Nassau           664   \n",
       "344  2021-02-08T00:00:00.000  Nassau           820   \n",
       "345  2021-02-09T00:00:00.000  Nassau           566   \n",
       "346  2021-02-10T00:00:00.000  Nassau           919   \n",
       "\n",
       "    cumulative_number_of_positives total_number_of_tests  \\\n",
       "0                                0                     0   \n",
       "1                                0                     0   \n",
       "2                                0                     0   \n",
       "3                                0                     0   \n",
       "4                                1                     1   \n",
       "..                             ...                   ...   \n",
       "342                         134227                 17518   \n",
       "343                         134891                 12764   \n",
       "344                         135711                 14458   \n",
       "345                         136277                 10493   \n",
       "346                         137196                 19295   \n",
       "\n",
       "    cumulative_number_of_tests  \n",
       "0                            0  \n",
       "1                            0  \n",
       "2                            0  \n",
       "3                            0  \n",
       "4                            1  \n",
       "..                         ...  \n",
       "342                    2579304  \n",
       "343                    2592068  \n",
       "344                    2606526  \n",
       "345                    2617019  \n",
       "346                    2636314  \n",
       "\n",
       "[347 rows x 6 columns]"
      ]
     },
     "execution_count": 11,
     "metadata": {},
     "output_type": "execute_result"
    }
   ],
   "source": [
    "results_df"
   ]
  },
  {
   "cell_type": "code",
   "execution_count": 28,
   "metadata": {},
   "outputs": [],
   "source": [
    "# Convert columns to numeric - to be on the safe side"
   ]
  },
  {
   "cell_type": "code",
   "execution_count": 13,
   "metadata": {},
   "outputs": [],
   "source": [
    "results_df[['new_positives', 'cumulative_number_of_positives','total_number_of_tests','cumulative_number_of_tests']] = results_df[['new_positives', 'cumulative_number_of_positives','total_number_of_tests','cumulative_number_of_tests']].apply(pd.to_numeric)"
   ]
  },
  {
   "cell_type": "code",
   "execution_count": 12,
   "metadata": {},
   "outputs": [],
   "source": [
    "from datetime import datetime"
   ]
  },
  {
   "cell_type": "code",
   "execution_count": 14,
   "metadata": {},
   "outputs": [
    {
     "name": "stdout",
     "output_type": "stream",
     "text": [
      "Using matplotlib backend: MacOSX\n"
     ]
    }
   ],
   "source": [
    " %matplotlib"
   ]
  },
  {
   "cell_type": "code",
   "execution_count": 15,
   "metadata": {},
   "outputs": [],
   "source": [
    "%matplotlib inline"
   ]
  },
  {
   "cell_type": "code",
   "execution_count": 19,
   "metadata": {
    "scrolled": true
   },
   "outputs": [
    {
     "data": {
      "text/plain": [
       "0      2020-03-01T00:00:00.000\n",
       "1      2020-03-02T00:00:00.000\n",
       "2      2020-03-03T00:00:00.000\n",
       "3      2020-03-04T00:00:00.000\n",
       "4      2020-03-05T00:00:00.000\n",
       "                ...           \n",
       "342    2021-02-06T00:00:00.000\n",
       "343    2021-02-07T00:00:00.000\n",
       "344    2021-02-08T00:00:00.000\n",
       "345    2021-02-09T00:00:00.000\n",
       "346    2021-02-10T00:00:00.000\n",
       "Name: test_date, Length: 347, dtype: object"
      ]
     },
     "execution_count": 19,
     "metadata": {},
     "output_type": "execute_result"
    }
   ],
   "source": [
    "results_df['test_date']"
   ]
  },
  {
   "cell_type": "code",
   "execution_count": null,
   "metadata": {},
   "outputs": [],
   "source": [
    "# Convert values in 'test_date' column from ISO to datetime"
   ]
  },
  {
   "cell_type": "code",
   "execution_count": 20,
   "metadata": {},
   "outputs": [],
   "source": [
    "results_df['test_date'] = pd.to_datetime(results_df['test_date'])"
   ]
  },
  {
   "cell_type": "code",
   "execution_count": 21,
   "metadata": {},
   "outputs": [
    {
     "data": {
      "text/plain": [
       "0     2020-03-01\n",
       "1     2020-03-02\n",
       "2     2020-03-03\n",
       "3     2020-03-04\n",
       "4     2020-03-05\n",
       "         ...    \n",
       "342   2021-02-06\n",
       "343   2021-02-07\n",
       "344   2021-02-08\n",
       "345   2021-02-09\n",
       "346   2021-02-10\n",
       "Name: test_date, Length: 347, dtype: datetime64[ns]"
      ]
     },
     "execution_count": 21,
     "metadata": {},
     "output_type": "execute_result"
    }
   ],
   "source": [
    "results_df['test_date']"
   ]
  },
  {
   "cell_type": "code",
   "execution_count": 22,
   "metadata": {},
   "outputs": [
    {
     "data": {
      "text/html": [
       "<div>\n",
       "<style scoped>\n",
       "    .dataframe tbody tr th:only-of-type {\n",
       "        vertical-align: middle;\n",
       "    }\n",
       "\n",
       "    .dataframe tbody tr th {\n",
       "        vertical-align: top;\n",
       "    }\n",
       "\n",
       "    .dataframe thead th {\n",
       "        text-align: right;\n",
       "    }\n",
       "</style>\n",
       "<table border=\"1\" class=\"dataframe\">\n",
       "  <thead>\n",
       "    <tr style=\"text-align: right;\">\n",
       "      <th></th>\n",
       "      <th>test_date</th>\n",
       "      <th>county</th>\n",
       "      <th>new_positives</th>\n",
       "      <th>cumulative_number_of_positives</th>\n",
       "      <th>total_number_of_tests</th>\n",
       "      <th>cumulative_number_of_tests</th>\n",
       "    </tr>\n",
       "  </thead>\n",
       "  <tbody>\n",
       "    <tr>\n",
       "      <th>0</th>\n",
       "      <td>2020-03-01</td>\n",
       "      <td>Nassau</td>\n",
       "      <td>0</td>\n",
       "      <td>0</td>\n",
       "      <td>0</td>\n",
       "      <td>0</td>\n",
       "    </tr>\n",
       "    <tr>\n",
       "      <th>1</th>\n",
       "      <td>2020-03-02</td>\n",
       "      <td>Nassau</td>\n",
       "      <td>0</td>\n",
       "      <td>0</td>\n",
       "      <td>0</td>\n",
       "      <td>0</td>\n",
       "    </tr>\n",
       "    <tr>\n",
       "      <th>2</th>\n",
       "      <td>2020-03-03</td>\n",
       "      <td>Nassau</td>\n",
       "      <td>0</td>\n",
       "      <td>0</td>\n",
       "      <td>0</td>\n",
       "      <td>0</td>\n",
       "    </tr>\n",
       "    <tr>\n",
       "      <th>3</th>\n",
       "      <td>2020-03-04</td>\n",
       "      <td>Nassau</td>\n",
       "      <td>0</td>\n",
       "      <td>0</td>\n",
       "      <td>0</td>\n",
       "      <td>0</td>\n",
       "    </tr>\n",
       "    <tr>\n",
       "      <th>4</th>\n",
       "      <td>2020-03-05</td>\n",
       "      <td>Nassau</td>\n",
       "      <td>1</td>\n",
       "      <td>1</td>\n",
       "      <td>1</td>\n",
       "      <td>1</td>\n",
       "    </tr>\n",
       "    <tr>\n",
       "      <th>...</th>\n",
       "      <td>...</td>\n",
       "      <td>...</td>\n",
       "      <td>...</td>\n",
       "      <td>...</td>\n",
       "      <td>...</td>\n",
       "      <td>...</td>\n",
       "    </tr>\n",
       "    <tr>\n",
       "      <th>342</th>\n",
       "      <td>2021-02-06</td>\n",
       "      <td>Nassau</td>\n",
       "      <td>870</td>\n",
       "      <td>134227</td>\n",
       "      <td>17518</td>\n",
       "      <td>2579304</td>\n",
       "    </tr>\n",
       "    <tr>\n",
       "      <th>343</th>\n",
       "      <td>2021-02-07</td>\n",
       "      <td>Nassau</td>\n",
       "      <td>664</td>\n",
       "      <td>134891</td>\n",
       "      <td>12764</td>\n",
       "      <td>2592068</td>\n",
       "    </tr>\n",
       "    <tr>\n",
       "      <th>344</th>\n",
       "      <td>2021-02-08</td>\n",
       "      <td>Nassau</td>\n",
       "      <td>820</td>\n",
       "      <td>135711</td>\n",
       "      <td>14458</td>\n",
       "      <td>2606526</td>\n",
       "    </tr>\n",
       "    <tr>\n",
       "      <th>345</th>\n",
       "      <td>2021-02-09</td>\n",
       "      <td>Nassau</td>\n",
       "      <td>566</td>\n",
       "      <td>136277</td>\n",
       "      <td>10493</td>\n",
       "      <td>2617019</td>\n",
       "    </tr>\n",
       "    <tr>\n",
       "      <th>346</th>\n",
       "      <td>2021-02-10</td>\n",
       "      <td>Nassau</td>\n",
       "      <td>919</td>\n",
       "      <td>137196</td>\n",
       "      <td>19295</td>\n",
       "      <td>2636314</td>\n",
       "    </tr>\n",
       "  </tbody>\n",
       "</table>\n",
       "<p>347 rows × 6 columns</p>\n",
       "</div>"
      ],
      "text/plain": [
       "     test_date  county  new_positives  cumulative_number_of_positives  \\\n",
       "0   2020-03-01  Nassau              0                               0   \n",
       "1   2020-03-02  Nassau              0                               0   \n",
       "2   2020-03-03  Nassau              0                               0   \n",
       "3   2020-03-04  Nassau              0                               0   \n",
       "4   2020-03-05  Nassau              1                               1   \n",
       "..         ...     ...            ...                             ...   \n",
       "342 2021-02-06  Nassau            870                          134227   \n",
       "343 2021-02-07  Nassau            664                          134891   \n",
       "344 2021-02-08  Nassau            820                          135711   \n",
       "345 2021-02-09  Nassau            566                          136277   \n",
       "346 2021-02-10  Nassau            919                          137196   \n",
       "\n",
       "     total_number_of_tests  cumulative_number_of_tests  \n",
       "0                        0                           0  \n",
       "1                        0                           0  \n",
       "2                        0                           0  \n",
       "3                        0                           0  \n",
       "4                        1                           1  \n",
       "..                     ...                         ...  \n",
       "342                  17518                     2579304  \n",
       "343                  12764                     2592068  \n",
       "344                  14458                     2606526  \n",
       "345                  10493                     2617019  \n",
       "346                  19295                     2636314  \n",
       "\n",
       "[347 rows x 6 columns]"
      ]
     },
     "execution_count": 22,
     "metadata": {},
     "output_type": "execute_result"
    }
   ],
   "source": [
    "results_df"
   ]
  },
  {
   "cell_type": "code",
   "execution_count": 29,
   "metadata": {},
   "outputs": [],
   "source": [
    "# Plot"
   ]
  },
  {
   "cell_type": "code",
   "execution_count": 23,
   "metadata": {},
   "outputs": [
    {
     "data": {
      "text/plain": [
       "<AxesSubplot:xlabel='test_date'>"
      ]
     },
     "execution_count": 23,
     "metadata": {},
     "output_type": "execute_result"
    },
    {
     "data": {
      "image/png": "[encoded data removed]",
      "text/plain": [
       "<Figure size 432x288 with 1 Axes>"
      ]
     },
     "metadata": {
      "needs_background": "light"
     },
     "output_type": "display_data"
    }
   ],
   "source": [
    "results_df.plot(x=\"test_date\", y=[\"new_positives\",\"total_number_of_tests\"])"
   ]
  },
  {
   "cell_type": "code",
   "execution_count": null,
   "metadata": {},
   "outputs": [],
   "source": []
  },
  {
   "cell_type": "code",
   "execution_count": null,
   "metadata": {},
   "outputs": [],
   "source": []
  },
  {
   "cell_type": "code",
   "execution_count": null,
   "metadata": {},
   "outputs": [],
   "source": []
  },
  {
   "cell_type": "code",
   "execution_count": null,
   "metadata": {},
   "outputs": [],
   "source": []
  },
  {
   "cell_type": "code",
   "execution_count": null,
   "metadata": {},
   "outputs": [],
   "source": []
  },
  {
   "cell_type": "code",
   "execution_count": null,
   "metadata": {},
   "outputs": [],
   "source": []
  }
 ],
 "metadata": {
  "kernelspec": {
   "display_name": "Python 3",
   "language": "python",
   "name": "python3"
  },
  "language_info": {
   "codemirror_mode": {
    "name": "ipython",
    "version": 3
   },
   "file_extension": ".py",
   "mimetype": "text/x-python",
   "name": "python",
   "nbconvert_exporter": "python",
   "pygments_lexer": "ipython3",
   "version": "3.8.5"
  }
 },
 "nbformat": 4,
 "nbformat_minor": 4
}
